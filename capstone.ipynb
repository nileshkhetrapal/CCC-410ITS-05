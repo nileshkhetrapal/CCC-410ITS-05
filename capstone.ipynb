{
 "cells": [
  {
   "cell_type": "code",
   "execution_count": null,
   "metadata": {},
   "outputs": [],
   "source": [
    "import os\n",
    "\n",
    "def Run(input(str)):\n",
    "    args = \"\\\"\" + input + \"\\\"\"\n",
    "    \n",
    "    return os.system(args)\n",
    "\n"
   ]
  },
  {
   "cell_type": "markdown",
   "metadata": {},
   "source": [
    "List of tools to be included:\n",
    "\n",
    "Alphabetical order:\n",
    "\n",
    "1. AmcacheParser\n",
    "\n",
    "2. JLECmd\n",
    "\n",
    "3. JumpList Explorer\n",
    "\n",
    "4. LECmd\n",
    "\n",
    "5. PECmd\n",
    "\n",
    "6. RBCmd\n",
    "\n",
    "7. Registry Explorer\n",
    "\n",
    "8. SBECmd"
   ]
  },
  {
   "cell_type": "markdown",
   "metadata": {},
   "source": [
    "4.LECmd\n",
    "PS C:\\Users\\nilesh\\Downloads\\SWTK> .\\LECmd.exe -f \"C:\\Users\\nilesh\\AppData\\Roaming\\Microsoft\\Windows\\Recent\\Wireshark_Icon.lnk\"      \n",
    "LECmd version 1.5.0.0\n",
    "\n",
    "Author: Eric Zimmerman (saericzimmerman@gmail.com)\n",
    "https://github.com/EricZimmerman/LECmd\n",
    "\n",
    "Command line: -f C:\\Users\\nilesh\\AppData\\Roaming\\Microsoft\\Windows\\Recent\\Wireshark_Icon.lnk\n",
    "\n",
    "Warning: Administrator privileges not found!\n",
    "\n",
    "\n",
    "Processing C:\\Users\\nilesh\\AppData\\Roaming\\Microsoft\\Windows\\Recent\\Wireshark_Icon.lnk\n",
    "\n",
    "Source file: C:\\Users\\nilesh\\AppData\\Roaming\\Microsoft\\Windows\\Recent\\Wireshark_Icon.lnk\n",
    "  Source created:  2022-10-06 18:55:07\n",
    "  Source modified: 2022-10-06 18:55:07\n",
    "  Source accessed: 2022-10-06 18:55:07\n",
    "\n",
    "--- Header ---\n",
    "  Target created:  null\n",
    "  Target modified: null\n",
    "  Target accessed: null\n",
    "\n",
    "  File size: 0\n",
    "  Flags: HasTargetIdList, HasLinkInfo, HasRelativePath, HasWorkingDir, IsUnicode, DisableKnownFolderTracking\n",
    "  File attributes: 0\n",
    "  Icon index: 0\n",
    "  Show window: SwNormal (Activates and displays the window. The window is restored to its original size and position if the window is minimized or maximized.)\n",
    "\n",
    "Relative Path: ..\\..\\..\\..\\..\\Downloads\\Wireshark_Icon.png\n",
    "Working Directory: C:\\Users\\nilesh\\Downloads\n",
    "\n",
    "--- Link information ---\n",
    "Flags: VolumeIdAndLocalBasePath\n",
    "\n",
    ">> Volume information\n",
    "  Drive type: Fixed storage media (Hard drive)\n",
    "  Serial number: C8137EA2\n",
    "  Label: OS\n",
    "  Local path: C:\\Users\\nilesh\\Downloads\\Wireshark_Icon.png\n",
    "\n",
    "--- Target ID information (Format: Type ==> Value) ---\n",
    "\n",
    "  Absolute path: My Computer\\Downloads\\\n",
    "\n",
    "  -Root folder: GUID ==> My Computer\n",
    "\n",
    "  -Root folder: GUID ==> Downloads\n",
    "\n",
    "  -File ==> (None)\n",
    "    Short name: Wireshark_Icon.png\n",
    "    Modified:\n",
    "    Extension block count: 1\n",
    "\n",
    "    --------- Block 0 (Beef0004) ---------\n",
    "    Long name: \n",
    "    Created:\n",
    "    Last access: \n",
    "\n",
    "--- End Target ID information ---\n",
    "\n",
    "---------- Processed C:\\Users\\nilesh\\AppData\\Roaming\\Microsoft\\Windows\\Recent\\Wireshark_Icon.lnk in 0.14360150 seconds ----------    \n",
    "\n",
    "\n",
    "\n",
    "PS C:\\Users\\nilesh\\Downloads\\SWTK> "
   ]
  },
  {
   "cell_type": "code",
   "execution_count": null,
   "metadata": {},
   "outputs": [],
   "source": []
  }
 ],
 "metadata": {
  "kernelspec": {
   "display_name": "Python 3.10.7 64-bit (microsoft store)",
   "language": "python",
   "name": "python3"
  },
  "language_info": {
   "name": "python",
   "version": "3.10.7"
  },
  "orig_nbformat": 4,
  "vscode": {
   "interpreter": {
    "hash": "058cfe25c9e376917c9fa740121847fb183e6448972f8ffc5cf99afd3dc9bea6"
   }
  }
 },
 "nbformat": 4,
 "nbformat_minor": 2
}
